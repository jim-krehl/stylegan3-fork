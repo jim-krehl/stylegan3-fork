{
  "cells": [
    {
      "cell_type": "markdown",
      "metadata": {
        "id": "view-in-github",
        "colab_type": "text"
      },
      "source": [
        "<a href=\"https://colab.research.google.com/github/jim-krehl/stylegan3-fork/blob/main/StyleGAN3-fork.ipynb\" target=\"_parent\"><img src=\"https://colab.research.google.com/assets/colab-badge.svg\" alt=\"Open In Colab\"/></a>"
      ]
    },
    {
      "cell_type": "markdown",
      "metadata": {
        "id": "XSeEcCHSqssp"
      },
      "source": [
        "https://colab.research.google.com/github/dvschultz/stylegan3/blob/main/SG3.ipynb#scrollTo=1tgIuCLRehuP"
      ]
    },
    {
      "cell_type": "code",
      "execution_count": null,
      "metadata": {
        "colab": {
          "base_uri": "https://localhost:8080/"
        },
        "id": "zi0byRK6qcuA",
        "outputId": "0cccd165-2370-47d6-a2bf-b61595ba35ab"
      },
      "outputs": [
        {
          "output_type": "stream",
          "name": "stdout",
          "text": [
            "GPU 0: NVIDIA A100-SXM4-40GB (UUID: GPU-e763e48c-6ee0-87c5-e956-e3e30cdf60c0)\n"
          ]
        }
      ],
      "source": [
        "!nvidia-smi -L"
      ]
    },
    {
      "cell_type": "code",
      "execution_count": null,
      "metadata": {
        "id": "IpH2Zdr-rGV3"
      },
      "outputs": [],
      "source": [
        "from google.colab import drive\n",
        "drive.mount ('/content/drive')"
      ]
    },
    {
      "cell_type": "code",
      "execution_count": null,
      "metadata": {
        "id": "c72Z-XoSVlnK"
      },
      "outputs": [],
      "source": [
        "BASE_DIR = '/content/drive/MyDrive/projects/HEIMR/colab-StyleGAN3/'\n",
        "STYLEGAN3_DIR = BASE_DIR + 'stylegan3/'\n",
        "PRETRAINING_DIR = STYLEGAN3_DIR + 'pretrained/'\n",
        "\n",
        "SOURCE_IMAGE_DIR = BASE_DIR + '../source-images.1'"
      ]
    },
    {
      "cell_type": "code",
      "execution_count": null,
      "metadata": {
        "id": "UoZk34F-rwo1"
      },
      "outputs": [],
      "source": [
        "!pip uninstall jax jaxlib -y\n",
        "!pip install \"jax[cudall_cudnn805]==0.3.10\" -f https://storage.googleapis.com/jax-releases/jax_cuda_releases.html\n",
        "!pip uninstall torch torchvision -y\n",
        "!pip install torch==1.9.0+cu111 torchvision==0.10.0+cu111 -f https://download.pytorch.org/whl/torch_stable.html\n",
        "!pip install timm==0.4.12 ftfy==6.1.1 ninja==1.10.2 imageio-ffmpeg opensimplex setuptools==59.5.0"
      ]
    },
    {
      "cell_type": "code",
      "execution_count": null,
      "metadata": {
        "id": "J6KtL3m-tNEE"
      },
      "outputs": [],
      "source": [
        "import os\n",
        "\n",
        "if not os.path.isdir (STYLEGAN3_DIR):\n",
        "  %cd $BASE_DIR\n",
        "  !git clone https://github.com/dvschultz/stylegan3\n",
        "else:\n",
        "  print (\"stylegan3 already cloned\")\n",
        "\n",
        "if not os.path.isfile (PRETRAINING_DIR + 'wikiart.pkl'):\n",
        "  if not os.path.isdir (PRETRAINING_DIR):\n",
        "    !mkdir $PRETRAINING_DIR\n",
        "\n",
        "  %cd $PRETRAINING_DIR\n",
        "  !gdown \"1-5xZkD8ajXw1DdopTkH_rAoCsD72LhKU\"\n",
        "else:\n",
        "  print (\"wikiart.pkl already downloaded\") "
      ]
    },
    {
      "cell_type": "code",
      "execution_count": null,
      "metadata": {
        "id": "Jxog1AHuUhPf"
      },
      "outputs": [],
      "source": [
        "%cd $STYLEGAN3_DIR\n",
        "\n",
        "if not os.path.isdir ('./datasets/'):\n",
        "  !mkdir datasets\n",
        "\n",
        "!python dataset_tool.py --source=$SOURCE_IMAGE_DIR --dest=./datasets/source-images-1.zip --resolution=2048x2048"
      ]
    },
    {
      "cell_type": "code",
      "execution_count": null,
      "metadata": {
        "id": "U6rCVMDh705t"
      },
      "outputs": [],
      "source": [
        "%cd $STYLEGAN3_DIR\n",
        "\n",
        "if not os.path.isdir ('./results/'):\n",
        "  !mkdir results-1\n",
        "\n",
        "dataset='./datasets/source-images-1-256x256'\n",
        "resume_pkl='./snapshots/snapshot-00006-256x256-000176.pkl'\n",
        "!python train.py --outdir=./results/ --cfg=stylegan3-t --data=$dataset --gpus=1 --batch=4 --batch-gpu=4 --gamma=10.0 --mirror=1 --kimg=5000 --snap=1 --resume=$resume_pkl"
      ]
    },
    {
      "cell_type": "code",
      "source": [
        "%cd $STYLEGAN3_DIR\n",
        "\n",
        "gen_img_dir='./generated-images/batch.0/'\n",
        "network='./snapshots/snapshot-00007-256x256-000208.pkl'\n",
        "!python gen_images.py --outdir=$gen_img_dir --network=$network --seeds=0-1000"
      ],
      "metadata": {
        "id": "3feV5u4Iy4rk"
      },
      "execution_count": null,
      "outputs": []
    }
  ],
  "metadata": {
    "accelerator": "GPU",
    "colab": {
      "machine_shape": "hm",
      "provenance": [],
      "authorship_tag": "ABX9TyO9nLyKwC01wTgRnQrVCj5k",
      "include_colab_link": true
    },
    "gpuClass": "premium",
    "kernelspec": {
      "display_name": "Python 3",
      "name": "python3"
    },
    "language_info": {
      "name": "python"
    }
  },
  "nbformat": 4,
  "nbformat_minor": 0
}